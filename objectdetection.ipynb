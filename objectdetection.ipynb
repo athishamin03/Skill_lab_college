{
  "cells": [
    {
      "cell_type": "code",
      "execution_count": null,
      "metadata": {
        "id": "bVL9kyaPqtsv"
      },
      "outputs": [],
      "source": [
        "pip install cvlib"
      ]
    },
    {
      "cell_type": "code",
      "execution_count": null,
      "metadata": {
        "id": "xq3W0l3BqP43"
      },
      "outputs": [],
      "source": [
        "import cv2\n",
        "from google.colab.patches import cv2_imshow\n",
        "import numpy as np\n",
        "import cvlib as cv\n",
        "from PIL import Image\n",
        "from cvlib.object_detection import draw_bbox\n",
        "import matplotlib.pyplot as plt\n",
        "%matplotlib inline\n"
      ]
    },
    {
      "cell_type": "code",
      "execution_count": null,
      "metadata": {
        "id": "2-FMJwrwqP4_"
      },
      "outputs": [],
      "source": [
        "img = Image.open('/content/ID2.jpg')\n",
        "img = np.array(img)"
      ]
    },
    {
      "cell_type": "code",
      "execution_count": null,
      "metadata": {
        "id": "2IJ8pOp2qP5A"
      },
      "outputs": [],
      "source": [
        "bbox, label, conf = cv.detect_common_objects(img, model='yolov3')\n",
        "output_image = draw_bbox(img, bbox, label, conf)"
      ]
    },
    {
      "cell_type": "code",
      "execution_count": null,
      "metadata": {
        "id": "zk3SoYp3qP5C"
      },
      "outputs": [],
      "source": [
        "plt.imshow(output_image)"
      ]
    },
    {
      "cell_type": "code",
      "execution_count": null,
      "metadata": {
        "id": "eVggkD6gqP5F"
      },
      "outputs": [],
      "source": []
    }
  ],
  "metadata": {
    "colab": {
      "provenance": []
    },
    "interpreter": {
      "hash": "9f2f81fe3dc63d2e6a6badffb688a2aebb401b6461660d719e230e032e38bbed"
    },
    "kernelspec": {
      "display_name": "Python 3.8.5 64-bit ('base': conda)",
      "name": "python3"
    },
    "language_info": {
      "codemirror_mode": {
        "name": "ipython",
        "version": 3
      },
      "file_extension": ".py",
      "mimetype": "text/x-python",
      "name": "python",
      "nbconvert_exporter": "python",
      "pygments_lexer": "ipython3",
      "version": "3.8.5"
    }
  },
  "nbformat": 4,
  "nbformat_minor": 0
}